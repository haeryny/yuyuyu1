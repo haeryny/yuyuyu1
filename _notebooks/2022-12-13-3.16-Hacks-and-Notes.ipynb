{
 "cells": [
  {
   "attachments": {},
   "cell_type": "markdown",
   "metadata": {},
   "source": [
    "# Video 3.16 Hacks\n",
    "\n",
    "- toc: true \n",
    "- badges: true\n",
    "- sticky_rank: 1\n",
    "- author: Haeryn Yu\n",
    "- categories: [week5, notes]"
   ]
  }
 ],
 "metadata": {
  "language_info": {
   "name": "python"
  },
  "orig_nbformat": 4
 },
 "nbformat": 4,
 "nbformat_minor": 2
}
